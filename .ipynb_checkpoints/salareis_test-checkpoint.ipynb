{
 "cells": [
  {
   "cell_type": "code",
   "execution_count": null,
   "id": "87249c6f",
   "metadata": {},
   "outputs": [],
   "source": [
    "import requests as req\n",
    "import pandas as pd\n",
    "import sqlite3 as sql\n",
    "import requests\n",
    "from functools import reduce\n",
    "import numpy as np\n",
    "import os.path\n",
    "from os import path"
   ]
  },
  {
   "cell_type": "code",
   "execution_count": null,
   "id": "specific-blend",
   "metadata": {},
   "outputs": [],
   "source": [
    "sqlite_file = 'salaries_data.sql'"
   ]
  },
  {
   "cell_type": "code",
   "execution_count": null,
   "id": "56cb4aed",
   "metadata": {},
   "outputs": [],
   "source": [
    "db = sql.connect(\":memory:\")"
   ]
  },
  {
   "cell_type": "code",
   "execution_count": null,
   "id": "c421d9aa",
   "metadata": {},
   "outputs": [],
   "source": [
    "sql_file = open(sqlite_file)\n",
    "sql_as_string = sql_file. read()\n",
    "db. executescript(sql_as_string)"
   ]
  },
  {
   "cell_type": "markdown",
   "id": "cc7a8a36",
   "metadata": {},
   "source": [
    "## Data  Manipulation"
   ]
  },
  {
   "cell_type": "code",
   "execution_count": null,
   "id": "c52922b2",
   "metadata": {},
   "outputs": [],
   "source": [
    "salary_query= \"\"\"\n",
    "SELECT \n",
    " firstname, lastname, department, salary, position\n",
    "FROM Salaries\n",
    "\"\"\""
   ]
  },
  {
   "cell_type": "code",
   "execution_count": null,
   "id": "c1dcb23d",
   "metadata": {},
   "outputs": [],
   "source": [
    "salaries = pd.read_sql(salary_query, db)"
   ]
  },
  {
   "cell_type": "code",
   "execution_count": null,
   "id": "75afd940",
   "metadata": {},
   "outputs": [],
   "source": [
    "salaries.head()"
   ]
  },
  {
   "cell_type": "code",
   "execution_count": null,
   "id": "d70f26d6",
   "metadata": {},
   "outputs": [],
   "source": [
    "def count_nonempty(d): \n",
    "    total = 0\n",
    "    for k in d.keys():\n",
    "        if (d.get(k) != None):\n",
    "            total += 1\n",
    "    print(\"the non empty total\", total)"
   ]
  },
  {
   "cell_type": "code",
   "execution_count": null,
   "id": "18145a5c",
   "metadata": {},
   "outputs": [],
   "source": [
    "headers = {\n",
    "  'Accept': 'application/json'\n",
    "}"
   ]
  },
  {
   "cell_type": "code",
   "execution_count": null,
   "id": "37822e22",
   "metadata": {},
   "outputs": [],
   "source": [
    "def fetch_profs(): \n",
    "\n",
    "\n",
    "    profs = dict()\n",
    "    matched_profs = dict()\n",
    "\n",
    "    for i in range(0, 10000, 1000):\n",
    "        r = requests.get('https://api.planetterp.com/v1/professors?reviews=true', params={\n",
    "          'limit': '1000',\n",
    "          'offset': i,\n",
    "        }, headers = headers)\n",
    "\n",
    "        for e in r.json():\n",
    "            profs[e.get(\"slug\")] = e\n",
    "            matched_profs[e.get(\"slug\")] = None\n",
    "\n",
    "    \n",
    "    print(len(profs.values()))\n",
    "    return (profs, matched_profs)"
   ]
  },
  {
   "cell_type": "code",
   "execution_count": null,
   "id": "983e655e",
   "metadata": {},
   "outputs": [],
   "source": [
    "def find_closest_match(name, matches):\n",
    "    firstname = name.split(\" \")[0]\n",
    "    ret = [ m  for m in matches if m[0].find(firstname) >= 0 ]\n",
    "    if(len(ret) > 0):\n",
    "        return ret[0]\n",
    "    return None\n",
    "def calc_avg_review(revs):\n",
    "    length = len(revs)\n",
    "    if(length == 0):\n",
    "        return np.nan\n",
    "    total = 0\n",
    "    for r in revs:\n",
    "        total += r.get(\"rating\")\n",
    "    return total / length\n",
    "        "
   ]
  },
  {
   "cell_type": "code",
   "execution_count": null,
   "id": "cda78e3d",
   "metadata": {},
   "outputs": [],
   "source": [
    "def get_department(dep, profs, matched_profs):\n",
    "    matches = dict()\n",
    "\n",
    "    for prof in profs.values():\n",
    "        \n",
    "        slug = prof.get(\"slug\")\n",
    "        name = prof.get(\"name\")\n",
    "        courses = prof.get(\"courses\")\n",
    "        avg_rating = calc_avg_review(prof.get(\"reviews\"))\n",
    "        \n",
    "        if(matched_profs.get(slug) != None):\n",
    "            continue\n",
    "\n",
    "        lastname = name.split(\" \")[-1]\n",
    "\n",
    "        salary_query= f\"\"\"\n",
    "            SELECT \n",
    "            firstname, \n",
    "            lastname,\n",
    "            department,\n",
    "            salary,\n",
    "            position\n",
    "            FROM Salaries\n",
    "            WHERE lastname like \"{lastname}\"\n",
    "            AND department = \"{dep}\"\n",
    "        \"\"\"\n",
    "        rows = list(db.execute(salary_query))\n",
    "        matches[lastname] = (len(rows), rows, name, slug, courses, avg_rating)\n",
    "        \n",
    "\n",
    "    for match in matches.keys():\n",
    "        (length, v, name, slug, courses, avg_rating) = matches.get(match)\n",
    "        if(length > 0):\n",
    "           \n",
    "            value = find_closest_match(name, v)\n",
    "         \n",
    "            if(value != None):\n",
    "                \n",
    "                matched_profs[slug] = (\n",
    "                    value[0],\n",
    "                    value[1],\n",
    "                    value[2],\n",
    "                    value[3],\n",
    "                    value[4],\n",
    "                    avg_rating,\n",
    "                    slug,\n",
    "                    name,\n",
    "                    \"-\".join(courses)\n",
    "                )\n",
    "\n",
    "\n",
    "    return"
   ]
  },
  {
   "cell_type": "code",
   "execution_count": null,
   "id": "a26ceec5",
   "metadata": {},
   "outputs": [],
   "source": [
    "data = []"
   ]
  },
  {
   "cell_type": "code",
   "execution_count": null,
   "id": "df8f04e9",
   "metadata": {
    "scrolled": true
   },
   "outputs": [],
   "source": [
    "def fetch_matched_salaries():\n",
    "    if(path.isfile(\"matched_salaries.csv\")):\n",
    "        return pd.read_csv(\"matched_salaries.csv\")\n",
    "    \n",
    "    \n",
    "    (profs, matched_profs) = fetch_profs()\n",
    "    \n",
    "    arr = list(set(salaries[\"department\"]))\n",
    "    for dep in arr:   \n",
    "        get_department(dep, profs, matched_profs)\n",
    "        \n",
    "    data = [ list(v)  for v in matched_profs.values() if v != None]\n",
    "    matched_salaries = pd.DataFrame(data, columns=['firstname', 'lastname', 'department', 'salary', \"position\", \"avg_rating\", 'slug', \"planetTerpName\", \"courses\"])\n",
    "    matched_salaries.to_csv(path_or_buf=\"matched_salaries.csv\", index=False)\n",
    "    return matched_salaries\n"
   ]
  },
  {
   "cell_type": "code",
   "execution_count": null,
   "id": "e5f16086",
   "metadata": {},
   "outputs": [],
   "source": [
    "matched_salaries = fetch_matched_salaries()\n",
    "matched_salaries.head()"
   ]
  },
  {
   "cell_type": "code",
   "execution_count": null,
   "id": "562ac5a7",
   "metadata": {},
   "outputs": [],
   "source": [
    "def fetch_reviewsData(_data):\n",
    "    if(path.isfile(\"reviews.csv\")):\n",
    "        return pd.read_csv(\"reviews.csv\")\n",
    "        \n",
    "    reviews_data = []\n",
    "    for v in _data:\n",
    "\n",
    "        r = requests.get('https://api.planetterp.com/v1/professor', params={\n",
    "          'name': v,  'reviews': 'true'\n",
    "        }, headers = headers).json()\n",
    "\n",
    "\n",
    "        slug = r.get(\"slug\")\n",
    "        revs = r.get(\"reviews\")\n",
    "        if(revs == None):\n",
    "            continue\n",
    "\n",
    "        for rev in revs:  \n",
    "\n",
    "            reviews_data.append([ \n",
    "                slug,\n",
    "                rev.get(\"rating\"),  \n",
    "                rev.get(\"expected_grade\"), \n",
    "                rev.get(\"course\"),\n",
    "                rev.get(\"review\"),\n",
    "            ])   \n",
    "    reviews_df = pd.DataFrame(reviews_data, columns=['slug', 'rating', 'expected_grade', 'course', 'review'])\n",
    "    reviews_df.to_csv(path_or_buf=\"reviews.csv\", index=False)\n",
    "    return  reviews_df\n",
    "\n"
   ]
  },
  {
   "cell_type": "code",
   "execution_count": null,
   "id": "2ec7a68c",
   "metadata": {},
   "outputs": [],
   "source": [
    "reviews_df = fetch_reviewsData(list(matched_salaries[\"planetTerpName\"]))\n",
    "reviews_df.head()"
   ]
  },
  {
   "cell_type": "code",
   "execution_count": null,
   "id": "d9e7046c",
   "metadata": {},
   "outputs": [],
   "source": [
    "# reviews_df.to_csv(path_or_buf=\"reviews.csv\", index=False)"
   ]
  },
  {
   "cell_type": "code",
   "execution_count": null,
   "id": "b586f434",
   "metadata": {},
   "outputs": [],
   "source": [
    "data"
   ]
  },
  {
   "cell_type": "code",
   "execution_count": null,
   "id": "15bbcd22",
   "metadata": {},
   "outputs": [],
   "source": [
    "# word vector classifications - gensim\n",
    "\n",
    "# word cloud with reviews (bag of words)\n",
    "    # words that describe popular profesors\n",
    "    \n",
    "# scatter plot of professor salaries vs ratings\n",
    "# scatter plot of depart salaries vs ratings\n",
    "\n",
    "# consider the title of the professors which may be a reason for increased salary\n"
   ]
  },
  {
   "cell_type": "markdown",
   "id": "37740bf8",
   "metadata": {},
   "source": [
    "## EDA"
   ]
  },
  {
   "cell_type": "code",
   "execution_count": null,
   "id": "6421014f",
   "metadata": {},
   "outputs": [],
   "source": [
    "dept_avg = matched_salaries.groupby(\"department\").mean().sort_values(by=[\"salary\"], ascending=False)\n",
    "dept_avg"
   ]
  },
  {
   "cell_type": "code",
   "execution_count": null,
   "id": "b31c8543",
   "metadata": {},
   "outputs": [],
   "source": []
  }
 ],
 "metadata": {
  "kernelspec": {
   "display_name": "Python 3",
   "language": "python",
   "name": "python3"
  },
  "language_info": {
   "codemirror_mode": {
    "name": "ipython",
    "version": 3
   },
   "file_extension": ".py",
   "mimetype": "text/x-python",
   "name": "python",
   "nbconvert_exporter": "python",
   "pygments_lexer": "ipython3",
   "version": "3.8.8"
  }
 },
 "nbformat": 4,
 "nbformat_minor": 5
}
