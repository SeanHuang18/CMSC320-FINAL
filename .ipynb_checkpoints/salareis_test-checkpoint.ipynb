{
 "cells": [
  {
   "cell_type": "code",
   "execution_count": 1,
   "id": "mathematical-effectiveness",
   "metadata": {},
   "outputs": [],
   "source": [
    "import requests as req"
   ]
  },
  {
   "cell_type": "code",
   "execution_count": 2,
   "id": "progressive-delta",
   "metadata": {},
   "outputs": [],
   "source": [
    "from bs4 import BeautifulSoup"
   ]
  },
  {
   "cell_type": "code",
   "execution_count": 3,
   "id": "republican-blanket",
   "metadata": {},
   "outputs": [],
   "source": [
    "import pandas as pd"
   ]
  },
  {
   "cell_type": "code",
   "execution_count": 4,
   "id": "greatest-athletics",
   "metadata": {},
   "outputs": [],
   "source": [
    "import sqlite3 as sql"
   ]
  },
  {
   "cell_type": "code",
   "execution_count": 5,
   "id": "79e6af6f",
   "metadata": {},
   "outputs": [],
   "source": [
    "import requests"
   ]
  },
  {
   "cell_type": "code",
   "execution_count": 6,
   "id": "e99c0b00",
   "metadata": {},
   "outputs": [],
   "source": [
    "from functools import reduce"
   ]
  },
  {
   "cell_type": "code",
   "execution_count": 7,
   "id": "a2c651e3",
   "metadata": {},
   "outputs": [],
   "source": [
    "import numpy as np"
   ]
  },
  {
   "cell_type": "code",
   "execution_count": 8,
   "id": "specific-blend",
   "metadata": {},
   "outputs": [],
   "source": [
    "sqlite_file = 'salaries_first_last.sql'"
   ]
  },
  {
   "cell_type": "code",
   "execution_count": 9,
   "id": "56cb4aed",
   "metadata": {},
   "outputs": [],
   "source": [
    "db = sql.connect(\":memory:\")"
   ]
  },
  {
   "cell_type": "code",
   "execution_count": 10,
   "id": "c421d9aa",
   "metadata": {},
   "outputs": [
    {
     "data": {
      "text/plain": [
       "<sqlite3.Cursor at 0x7fbd02885500>"
      ]
     },
     "execution_count": 10,
     "metadata": {},
     "output_type": "execute_result"
    }
   ],
   "source": [
    "sql_file = open(sqlite_file)\n",
    "sql_as_string = sql_file. read()\n",
    "db. executescript(sql_as_string)"
   ]
  },
  {
   "cell_type": "code",
   "execution_count": 11,
   "id": "c52922b2",
   "metadata": {},
   "outputs": [],
   "source": [
    "salary_query= \"\"\"\n",
    "SELECT \n",
    " firstname, lastname, department,  salary\n",
    "FROM Salaries\n",
    "\"\"\""
   ]
  },
  {
   "cell_type": "code",
   "execution_count": 12,
   "id": "c1dcb23d",
   "metadata": {},
   "outputs": [],
   "source": [
    "salaries = pd.read_sql(salary_query, db)"
   ]
  },
  {
   "cell_type": "code",
   "execution_count": 13,
   "id": "75afd940",
   "metadata": {},
   "outputs": [
    {
     "data": {
      "text/html": [
       "<div>\n",
       "<style scoped>\n",
       "    .dataframe tbody tr th:only-of-type {\n",
       "        vertical-align: middle;\n",
       "    }\n",
       "\n",
       "    .dataframe tbody tr th {\n",
       "        vertical-align: top;\n",
       "    }\n",
       "\n",
       "    .dataframe thead th {\n",
       "        text-align: right;\n",
       "    }\n",
       "</style>\n",
       "<table border=\"1\" class=\"dataframe\">\n",
       "  <thead>\n",
       "    <tr style=\"text-align: right;\">\n",
       "      <th></th>\n",
       "      <th>firstname</th>\n",
       "      <th>lastname</th>\n",
       "      <th>department</th>\n",
       "      <th>salary</th>\n",
       "    </tr>\n",
       "  </thead>\n",
       "  <tbody>\n",
       "    <tr>\n",
       "      <th>0</th>\n",
       "      <td>DJ</td>\n",
       "      <td>Durkin</td>\n",
       "      <td>PRES</td>\n",
       "      <td>881010.96</td>\n",
       "    </tr>\n",
       "    <tr>\n",
       "      <th>1</th>\n",
       "      <td>Darryll J</td>\n",
       "      <td>Pines</td>\n",
       "      <td>PRES</td>\n",
       "      <td>765000.00</td>\n",
       "    </tr>\n",
       "    <tr>\n",
       "      <th>2</th>\n",
       "      <td>Wallace</td>\n",
       "      <td>Loh</td>\n",
       "      <td>PRES</td>\n",
       "      <td>734565.88</td>\n",
       "    </tr>\n",
       "    <tr>\n",
       "      <th>3</th>\n",
       "      <td>Mark</td>\n",
       "      <td>Turgeon</td>\n",
       "      <td>PRES</td>\n",
       "      <td>723312.99</td>\n",
       "    </tr>\n",
       "    <tr>\n",
       "      <th>4</th>\n",
       "      <td>Brenda S</td>\n",
       "      <td>Frese</td>\n",
       "      <td>PRES</td>\n",
       "      <td>659386.43</td>\n",
       "    </tr>\n",
       "  </tbody>\n",
       "</table>\n",
       "</div>"
      ],
      "text/plain": [
       "   firstname lastname department     salary\n",
       "0         DJ   Durkin       PRES  881010.96\n",
       "1  Darryll J    Pines       PRES  765000.00\n",
       "2    Wallace      Loh       PRES  734565.88\n",
       "3       Mark  Turgeon       PRES  723312.99\n",
       "4   Brenda S    Frese       PRES  659386.43"
      ]
     },
     "execution_count": 13,
     "metadata": {},
     "output_type": "execute_result"
    }
   ],
   "source": [
    "salaries.head()"
   ]
  },
  {
   "cell_type": "code",
   "execution_count": 14,
   "id": "6360d55e",
   "metadata": {},
   "outputs": [],
   "source": [
    "def count_nonempty(d): \n",
    "    total = 0\n",
    "    for k in d.keys():\n",
    "        if (d.get(k) != None):\n",
    "            total += 1\n",
    "    print(\"the non empty total\", total)"
   ]
  },
  {
   "cell_type": "code",
   "execution_count": 15,
   "id": "37822e22",
   "metadata": {},
   "outputs": [
    {
     "name": "stdout",
     "output_type": "stream",
     "text": [
      "0\n"
     ]
    }
   ],
   "source": [
    "headers = {\n",
    "  'Accept': 'application/json'\n",
    "}\n",
    "\n",
    "profs = dict()\n",
    "matched_profs = dict()\n",
    "\n",
    "for i in range(0, 10000, 1000):\n",
    "    r = requests.get('https://api.planetterp.com/v1/professors', params={\n",
    "      'limit': '1000',\n",
    "      'offset': i\n",
    "    }, headers = headers)\n",
    "\n",
    "    for e in r.json():\n",
    "        profs[e.get(\"slug\")] = e\n",
    "#         matched_profs[e.get(\"slug\")] = None\n",
    "    \n",
    "    \n",
    "print(len(matched_profs.values()))"
   ]
  },
  {
   "cell_type": "code",
   "execution_count": 16,
   "id": "983e655e",
   "metadata": {},
   "outputs": [],
   "source": [
    "def find_closest_match(name, matches):\n",
    "    firstname = name.split(\" \")[0]\n",
    "    ret = [ m  for m in matches if m[0].find(firstname) >= 0 ]\n",
    "    if(len(ret) > 0):\n",
    "        return ret[0]\n",
    "    return None"
   ]
  },
  {
   "cell_type": "code",
   "execution_count": 17,
   "id": "cda78e3d",
   "metadata": {},
   "outputs": [],
   "source": [
    "def get_department(dep):\n",
    "    matches = dict()\n",
    "\n",
    "    for prof in profs.values():\n",
    "        \n",
    "        slug = prof.get(\"slug\")\n",
    "        name = prof.get(\"name\")\n",
    "        courses = prof.get(\"courses\")\n",
    "        \n",
    "        if(matched_profs.get(slug) != None):\n",
    "            continue\n",
    "\n",
    "        lastname = name.split(\" \")[-1]\n",
    "\n",
    "        salary_query= f\"\"\"\n",
    "            SELECT \n",
    "            firstname, \n",
    "            lastname,\n",
    "            department,\n",
    "            salary\n",
    "            FROM Salaries\n",
    "            WHERE lastname like \"{lastname}\"\n",
    "            AND department = \"{dep}\"\n",
    "        \"\"\"\n",
    "        rows = list(db.execute(salary_query))\n",
    "        matches[lastname] = (len(rows), rows, name, slug, courses)\n",
    "        \n",
    "\n",
    "    for match in matches.keys():\n",
    "        (length, v, name, slug, courses) = matches.get(match)\n",
    "        if(length > 0):\n",
    "           \n",
    "            value = find_closest_match(name, v)\n",
    "         \n",
    "            if(value != None):\n",
    "                \n",
    "                matched_profs[slug] = (\n",
    "                    value[0],\n",
    "                    value[1],\n",
    "                    value[2],\n",
    "                    value[3],\n",
    "                    slug,\n",
    "                    name,\n",
    "                    \"-\".join(courses)\n",
    "                )\n",
    "\n",
    "\n",
    "    return"
   ]
  },
  {
   "cell_type": "code",
   "execution_count": 18,
   "id": "df8f04e9",
   "metadata": {
    "scrolled": true
   },
   "outputs": [],
   "source": [
    "arr = list(set(salaries[\"department\"]))\n",
    "for dep in arr:   \n",
    "    get_department(dep)"
   ]
  },
  {
   "cell_type": "code",
   "execution_count": 19,
   "id": "bb91d6bc",
   "metadata": {},
   "outputs": [],
   "source": [
    "data =  [ list(v)  for v in matched_profs.values() ]"
   ]
  },
  {
   "cell_type": "code",
   "execution_count": 22,
   "id": "e5f16086",
   "metadata": {},
   "outputs": [
    {
     "data": {
      "text/html": [
       "<div>\n",
       "<style scoped>\n",
       "    .dataframe tbody tr th:only-of-type {\n",
       "        vertical-align: middle;\n",
       "    }\n",
       "\n",
       "    .dataframe tbody tr th {\n",
       "        vertical-align: top;\n",
       "    }\n",
       "\n",
       "    .dataframe thead th {\n",
       "        text-align: right;\n",
       "    }\n",
       "</style>\n",
       "<table border=\"1\" class=\"dataframe\">\n",
       "  <thead>\n",
       "    <tr style=\"text-align: right;\">\n",
       "      <th></th>\n",
       "      <th>firstname</th>\n",
       "      <th>lastname</th>\n",
       "      <th>department</th>\n",
       "      <th>salary</th>\n",
       "      <th>slug</th>\n",
       "      <th>planetTerpName</th>\n",
       "      <th>courses</th>\n",
       "    </tr>\n",
       "  </thead>\n",
       "  <tbody>\n",
       "    <tr>\n",
       "      <th>0</th>\n",
       "      <td>Adrienne Hamcke</td>\n",
       "      <td>Wicker</td>\n",
       "      <td>SVPAAP</td>\n",
       "      <td>107237.29</td>\n",
       "      <td>wicker_adrienne</td>\n",
       "      <td>Adrienne Wicker</td>\n",
       "      <td>EDCP789</td>\n",
       "    </tr>\n",
       "    <tr>\n",
       "      <th>1</th>\n",
       "      <td>Siemy</td>\n",
       "      <td>Khan</td>\n",
       "      <td>SVPAAP</td>\n",
       "      <td>88720.18</td>\n",
       "      <td>khan_siemy</td>\n",
       "      <td>Siemy Khan</td>\n",
       "      <td>UNIV100</td>\n",
       "    </tr>\n",
       "    <tr>\n",
       "      <th>2</th>\n",
       "      <td>Alice Elizabeth</td>\n",
       "      <td>Donlan</td>\n",
       "      <td>SVPAAP</td>\n",
       "      <td>87019.18</td>\n",
       "      <td>donlan</td>\n",
       "      <td>Alice Donlan</td>\n",
       "      <td>EDHD413-EDMS451-EDHD430-EDMS645</td>\n",
       "    </tr>\n",
       "    <tr>\n",
       "      <th>3</th>\n",
       "      <td>Theresa M</td>\n",
       "      <td>Smith</td>\n",
       "      <td>SVPAAP</td>\n",
       "      <td>69922.37</td>\n",
       "      <td>smith_theresa</td>\n",
       "      <td>Theresa Smith</td>\n",
       "      <td>KNES131O-KNES131V</td>\n",
       "    </tr>\n",
       "    <tr>\n",
       "      <th>4</th>\n",
       "      <td>Jonathan</td>\n",
       "      <td>Goodson</td>\n",
       "      <td>SVPAAP</td>\n",
       "      <td>62584.65</td>\n",
       "      <td>goodson_jonathan</td>\n",
       "      <td>Jonathan Goodson</td>\n",
       "      <td>FIRE120-FIRE273-FIRE198-FIRE298-FIRE398</td>\n",
       "    </tr>\n",
       "  </tbody>\n",
       "</table>\n",
       "</div>"
      ],
      "text/plain": [
       "         firstname lastname department     salary              slug  \\\n",
       "0  Adrienne Hamcke   Wicker     SVPAAP  107237.29   wicker_adrienne   \n",
       "1            Siemy     Khan     SVPAAP   88720.18        khan_siemy   \n",
       "2  Alice Elizabeth   Donlan     SVPAAP   87019.18            donlan   \n",
       "3        Theresa M    Smith     SVPAAP   69922.37     smith_theresa   \n",
       "4         Jonathan  Goodson     SVPAAP   62584.65  goodson_jonathan   \n",
       "\n",
       "     planetTerpName                                  courses  \n",
       "0   Adrienne Wicker                                  EDCP789  \n",
       "1        Siemy Khan                                  UNIV100  \n",
       "2      Alice Donlan          EDHD413-EDMS451-EDHD430-EDMS645  \n",
       "3     Theresa Smith                        KNES131O-KNES131V  \n",
       "4  Jonathan Goodson  FIRE120-FIRE273-FIRE198-FIRE298-FIRE398  "
      ]
     },
     "execution_count": 22,
     "metadata": {},
     "output_type": "execute_result"
    }
   ],
   "source": [
    "matched_salaries = pd.DataFrame(data, columns=['firstname', 'lastname', 'department', 'salary', 'slug', \"planetTerpName\", \"courses\"])\n",
    "matched_salaries.head()"
   ]
  },
  {
   "cell_type": "code",
   "execution_count": 24,
   "id": "e9dd2bbf",
   "metadata": {},
   "outputs": [],
   "source": [
    "reviews_data = []\n",
    "for v in data:\n",
    "    \n",
    "    r = requests.get('https://api.planetterp.com/v1/professor', params={\n",
    "      'name': v[5],  'reviews': 'true'\n",
    "    }, headers = headers).json()\n",
    "    \n",
    "\n",
    "    slug = r.get(\"slug\")\n",
    "    revs = r.get(\"reviews\")\n",
    "    if(revs == None):\n",
    "        continue\n",
    "        \n",
    "    for rev in revs:  \n",
    "\n",
    "        reviews_data.append([ \n",
    "            slug,\n",
    "            rev.get(\"rating\"),  \n",
    "            rev.get(\"expected_grade\"), \n",
    "            rev.get(\"course\"),\n",
    "            rev.get(\"review\"),\n",
    "        ])   \n"
   ]
  },
  {
   "cell_type": "code",
   "execution_count": 27,
   "id": "7ff612cd",
   "metadata": {},
   "outputs": [
    {
     "data": {
      "text/html": [
       "<div>\n",
       "<style scoped>\n",
       "    .dataframe tbody tr th:only-of-type {\n",
       "        vertical-align: middle;\n",
       "    }\n",
       "\n",
       "    .dataframe tbody tr th {\n",
       "        vertical-align: top;\n",
       "    }\n",
       "\n",
       "    .dataframe thead th {\n",
       "        text-align: right;\n",
       "    }\n",
       "</style>\n",
       "<table border=\"1\" class=\"dataframe\">\n",
       "  <thead>\n",
       "    <tr style=\"text-align: right;\">\n",
       "      <th></th>\n",
       "      <th>slug</th>\n",
       "      <th>rating</th>\n",
       "      <th>expected_grade</th>\n",
       "      <th>course</th>\n",
       "      <th>review</th>\n",
       "    </tr>\n",
       "  </thead>\n",
       "  <tbody>\n",
       "    <tr>\n",
       "      <th>0</th>\n",
       "      <td>donlan</td>\n",
       "      <td>3</td>\n",
       "      <td>A</td>\n",
       "      <td>EDHD413</td>\n",
       "      <td>Donlan is a graduate student and a decent teac...</td>\n",
       "    </tr>\n",
       "    <tr>\n",
       "      <th>1</th>\n",
       "      <td>donlan</td>\n",
       "      <td>5</td>\n",
       "      <td>A</td>\n",
       "      <td>EDHD320</td>\n",
       "      <td>Not sure what the other reviewer was talking a...</td>\n",
       "    </tr>\n",
       "    <tr>\n",
       "      <th>2</th>\n",
       "      <td>donlan</td>\n",
       "      <td>2</td>\n",
       "      <td></td>\n",
       "      <td>EDHD320</td>\n",
       "      <td>She is a super nice lady, but I absolutely hat...</td>\n",
       "    </tr>\n",
       "    <tr>\n",
       "      <th>3</th>\n",
       "      <td>goodson_jonathan</td>\n",
       "      <td>5</td>\n",
       "      <td>A+</td>\n",
       "      <td>FIRE198</td>\n",
       "      <td>Dr. Goodson is probably the most considerate p...</td>\n",
       "    </tr>\n",
       "    <tr>\n",
       "      <th>4</th>\n",
       "      <td>goodson_jonathan</td>\n",
       "      <td>5</td>\n",
       "      <td>A+</td>\n",
       "      <td>FIRE120</td>\n",
       "      <td>Awesome guy. Super accommodating and understan...</td>\n",
       "    </tr>\n",
       "  </tbody>\n",
       "</table>\n",
       "</div>"
      ],
      "text/plain": [
       "               slug  rating expected_grade   course  \\\n",
       "0            donlan       3              A  EDHD413   \n",
       "1            donlan       5              A  EDHD320   \n",
       "2            donlan       2                 EDHD320   \n",
       "3  goodson_jonathan       5             A+  FIRE198   \n",
       "4  goodson_jonathan       5             A+  FIRE120   \n",
       "\n",
       "                                              review  \n",
       "0  Donlan is a graduate student and a decent teac...  \n",
       "1  Not sure what the other reviewer was talking a...  \n",
       "2  She is a super nice lady, but I absolutely hat...  \n",
       "3  Dr. Goodson is probably the most considerate p...  \n",
       "4  Awesome guy. Super accommodating and understan...  "
      ]
     },
     "execution_count": 27,
     "metadata": {},
     "output_type": "execute_result"
    }
   ],
   "source": [
    "reviews_df = pd.DataFrame(reviews_data, columns=['slug', 'rating', 'expected_grade', 'course', 'review'])\n",
    "reviews_df.head()"
   ]
  },
  {
   "cell_type": "code",
   "execution_count": 26,
   "id": "561a3c7d",
   "metadata": {},
   "outputs": [
    {
     "data": {
      "text/plain": [
       "5792"
      ]
     },
     "execution_count": 26,
     "metadata": {},
     "output_type": "execute_result"
    }
   ],
   "source": [
    "len(reviews_data)"
   ]
  },
  {
   "cell_type": "code",
   "execution_count": null,
   "id": "b586f434",
   "metadata": {},
   "outputs": [],
   "source": [
    "data"
   ]
  },
  {
   "cell_type": "code",
   "execution_count": null,
   "id": "15bbcd22",
   "metadata": {},
   "outputs": [],
   "source": []
  }
 ],
 "metadata": {
  "kernelspec": {
   "display_name": "Python 3",
   "language": "python",
   "name": "python3"
  },
  "language_info": {
   "codemirror_mode": {
    "name": "ipython",
    "version": 3
   },
   "file_extension": ".py",
   "mimetype": "text/x-python",
   "name": "python",
   "nbconvert_exporter": "python",
   "pygments_lexer": "ipython3",
   "version": "3.8.8"
  }
 },
 "nbformat": 4,
 "nbformat_minor": 5
}
