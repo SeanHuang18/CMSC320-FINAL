{
 "cells": [
  {
   "cell_type": "code",
   "execution_count": null,
   "id": "87249c6f",
   "metadata": {},
   "outputs": [],
   "source": [
    "import requests as req\n",
    "import pandas as pd\n",
    "import sqlite3 as sql\n",
    "import requests\n",
    "from functools import reduce\n",
    "import numpy as np\n",
    "import os.path\n",
    "from os import path\n",
    "import matplotlib.pyplot as plt\n",
    "import seaborn as sns\n",
    "import re\n",
    "import math\n",
    "from sklearn.linear_model import LinearRegression"
   ]
  },
  {
   "cell_type": "code",
   "execution_count": null,
   "id": "specific-blend",
   "metadata": {},
   "outputs": [],
   "source": [
    "sqlite_file = 'salaries_data.sql'"
   ]
  },
  {
   "cell_type": "code",
   "execution_count": null,
   "id": "56cb4aed",
   "metadata": {},
   "outputs": [],
   "source": [
    "db = sql.connect(\":memory:\")"
   ]
  },
  {
   "cell_type": "code",
   "execution_count": null,
   "id": "c421d9aa",
   "metadata": {},
   "outputs": [],
   "source": [
    "sql_file = open(sqlite_file)\n",
    "sql_as_string = sql_file. read()\n",
    "db. executescript(sql_as_string)"
   ]
  },
  {
   "cell_type": "markdown",
   "id": "cc7a8a36",
   "metadata": {},
   "source": [
    "## Data  Manipulation"
   ]
  },
  {
   "cell_type": "code",
   "execution_count": null,
   "id": "c52922b2",
   "metadata": {},
   "outputs": [],
   "source": [
    "salary_query= \"\"\"\n",
    "SELECT \n",
    " firstname, lastname, department, salary, position\n",
    "FROM Salaries\n",
    "\"\"\""
   ]
  },
  {
   "cell_type": "code",
   "execution_count": null,
   "id": "c1dcb23d",
   "metadata": {},
   "outputs": [],
   "source": [
    "salaries = pd.read_sql(salary_query, db)"
   ]
  },
  {
   "cell_type": "code",
   "execution_count": null,
   "id": "75afd940",
   "metadata": {},
   "outputs": [],
   "source": [
    "salaries.head()"
   ]
  },
  {
   "cell_type": "code",
   "execution_count": null,
   "id": "d70f26d6",
   "metadata": {},
   "outputs": [],
   "source": [
    "def count_nonempty(d): \n",
    "    total = 0\n",
    "    for k in d.keys():\n",
    "        if (d.get(k) != None):\n",
    "            total += 1\n",
    "    print(\"the non empty total\", total)"
   ]
  },
  {
   "cell_type": "code",
   "execution_count": null,
   "id": "18145a5c",
   "metadata": {},
   "outputs": [],
   "source": [
    "headers = {\n",
    "  'Accept': 'application/json'\n",
    "}"
   ]
  },
  {
   "cell_type": "code",
   "execution_count": null,
   "id": "37822e22",
   "metadata": {},
   "outputs": [],
   "source": [
    "def fetch_profs(): \n",
    "\n",
    "\n",
    "    profs = dict()\n",
    "    matched_profs = dict()\n",
    "\n",
    "    for i in range(0, 10000, 1000):\n",
    "        r = requests.get('https://api.planetterp.com/v1/professors?reviews=true', params={\n",
    "          'limit': '1000',\n",
    "          'offset': i,\n",
    "        }, headers = headers)\n",
    "\n",
    "        for e in r.json():\n",
    "            profs[e.get(\"slug\")] = e\n",
    "            matched_profs[e.get(\"slug\")] = None\n",
    "\n",
    "    \n",
    "    print(len(profs.values()))\n",
    "    return (profs, matched_profs)"
   ]
  },
  {
   "cell_type": "code",
   "execution_count": null,
   "id": "983e655e",
   "metadata": {},
   "outputs": [],
   "source": [
    "def find_closest_match(name, matches):\n",
    "    firstname = name.split(\" \")[0]\n",
    "    ret = [ m  for m in matches if m[0].find(firstname) >= 0 ]\n",
    "    if(len(ret) > 0):\n",
    "        return ret[0]\n",
    "    return None\n",
    "def calc_avg_review(revs):\n",
    "    length = len(revs)\n",
    "    if(length == 0):\n",
    "        return np.nan\n",
    "    total = 0\n",
    "    for r in revs:\n",
    "        total += r.get(\"rating\")\n",
    "    return total / length\n",
    "        "
   ]
  },
  {
   "cell_type": "code",
   "execution_count": null,
   "id": "cda78e3d",
   "metadata": {},
   "outputs": [],
   "source": [
    "def get_department(dep, profs, matched_profs):\n",
    "    matches = dict()\n",
    "\n",
    "    for prof in profs.values():\n",
    "        \n",
    "        slug = prof.get(\"slug\")\n",
    "        name = prof.get(\"name\")\n",
    "        courses = prof.get(\"courses\")\n",
    "        avg_rating = calc_avg_review(prof.get(\"reviews\"))\n",
    "        \n",
    "        if(matched_profs.get(slug) != None):\n",
    "            continue\n",
    "\n",
    "        lastname = name.split(\" \")[-1]\n",
    "\n",
    "        salary_query= f\"\"\"\n",
    "            SELECT \n",
    "            firstname, \n",
    "            lastname,\n",
    "            department,\n",
    "            salary,\n",
    "            position\n",
    "            FROM Salaries\n",
    "            WHERE lastname like \"{lastname}\"\n",
    "            AND department = \"{dep}\"\n",
    "        \"\"\"\n",
    "        rows = list(db.execute(salary_query))\n",
    "        matches[lastname] = (len(rows), rows, name, slug, courses, avg_rating)\n",
    "        \n",
    "\n",
    "    for match in matches.keys():\n",
    "        (length, v, name, slug, courses, avg_rating) = matches.get(match)\n",
    "        if(length > 0):\n",
    "           \n",
    "            value = find_closest_match(name, v)\n",
    "         \n",
    "            if(value != None):\n",
    "                \n",
    "                matched_profs[slug] = (\n",
    "                    value[0],\n",
    "                    value[1],\n",
    "                    value[2],\n",
    "                    value[3],\n",
    "                    value[4],\n",
    "                    avg_rating,\n",
    "                    slug,\n",
    "                    name,\n",
    "                    \"-\".join(courses),\n",
    "                    len(courses)\n",
    "                )\n",
    "                \n",
    "\n",
    "    return"
   ]
  },
  {
   "cell_type": "code",
   "execution_count": null,
   "id": "a26ceec5",
   "metadata": {},
   "outputs": [],
   "source": [
    "data = []"
   ]
  },
  {
   "cell_type": "code",
   "execution_count": null,
   "id": "df8f04e9",
   "metadata": {
    "scrolled": true
   },
   "outputs": [],
   "source": [
    "def fetch_matched_salaries():\n",
    "    if(path.isfile(\"matched_salaries.csv\")):\n",
    "        return pd.read_csv(\"matched_salaries.csv\")\n",
    "    \n",
    "    \n",
    "    (profs, matched_profs) = fetch_profs()\n",
    "    \n",
    "    arr = list(set(salaries[\"department\"]))\n",
    "    for dep in arr:   \n",
    "        get_department(dep, profs, matched_profs)\n",
    "        \n",
    "    data = [ list(v)  for v in matched_profs.values() if v != None]\n",
    "    matched_salaries = pd.DataFrame(data, columns=['firstname', 'lastname', 'department', 'salary', \"position\", \"avg_rating\", 'slug', \"planetTerpName\", \"courses\", \"num_courses\"])\n",
    "    matched_salaries.to_csv(path_or_buf=\"matched_salaries.csv\", index=False)\n",
    "    return matched_salaries\n"
   ]
  },
  {
   "cell_type": "code",
   "execution_count": null,
   "id": "e5f16086",
   "metadata": {},
   "outputs": [],
   "source": [
    "matched_salaries = fetch_matched_salaries()\n",
    "matched_salaries = matched_salaries[matched_salaries['position'].str.contains(\"Professor\") | matched_salaries['position'].str.contains(\"Lecturer\")]\n",
    "matched_salaries"
   ]
  },
  {
   "cell_type": "code",
   "execution_count": null,
   "id": "simple-preservation",
   "metadata": {},
   "outputs": [],
   "source": [
    "print(matched_salaries.groupby(by='department').mean())"
   ]
  },
  {
   "cell_type": "code",
   "execution_count": null,
   "id": "562ac5a7",
   "metadata": {},
   "outputs": [],
   "source": [
    "def fetch_reviewsData(_data, ids):\n",
    "    if(path.isfile(\"reviews.csv\")):\n",
    "        return pd.read_csv(\"reviews.csv\")\n",
    "        \n",
    "    reviews_data = []\n",
    "    i = 0\n",
    "    for v in _data:\n",
    "\n",
    "        r = requests.get('https://api.planetterp.com/v1/professor', params={\n",
    "          'name': v,  'reviews': 'true'\n",
    "        }, headers = headers).json()\n",
    "\n",
    "\n",
    "        slug = r.get(\"slug\")\n",
    "        revs = r.get(\"reviews\")\n",
    "        if(revs == None):\n",
    "            continue\n",
    "\n",
    "        for rev in revs:  \n",
    "\n",
    "            reviews_data.append([ \n",
    "                slug,\n",
    "                rev.get(\"rating\"),  \n",
    "                rev.get(\"expected_grade\"), \n",
    "                rev.get(\"course\"),\n",
    "                rev.get(\"review\"),\n",
    "                ids[i]\n",
    "            ])\n",
    "            \n",
    "        i += 1;\n",
    "    reviews_df = pd.DataFrame(reviews_data, columns=['slug', 'rating', 'expected_grade', 'course', 'review', \"prof_df_id\"])\n",
    "    reviews_df.to_csv(path_or_buf=\"reviews.csv\", index=False)\n",
    "    return  reviews_df\n",
    "\n"
   ]
  },
  {
   "cell_type": "code",
   "execution_count": null,
   "id": "2ec7a68c",
   "metadata": {},
   "outputs": [],
   "source": [
    "reviews_df = fetch_reviewsData(list(matched_salaries[\"planetTerpName\"]), matched_salaries.index.values)\n",
    "reviews_df.head()"
   ]
  },
  {
   "cell_type": "code",
   "execution_count": null,
   "id": "15bbcd22",
   "metadata": {},
   "outputs": [],
   "source": [
    "# word vector classifications - gensim\n",
    "\n",
    "# word cloud with reviews (bag of words)\n",
    "    # words that describe popular profesors\n",
    "    \n",
    "# scatter plot of professor salaries vs ratings\n",
    "# scatter plot of depart salaries vs ratings\n",
    "\n",
    "# consider the title of the professors which may be a reason for increased salary\n"
   ]
  },
  {
   "cell_type": "markdown",
   "id": "37740bf8",
   "metadata": {},
   "source": [
    "## EDA"
   ]
  },
  {
   "cell_type": "code",
   "execution_count": null,
   "id": "6421014f",
   "metadata": {},
   "outputs": [],
   "source": [
    "dept_avg = matched_salaries.groupby(\"department\").mean().sort_values(by=[\"salary\"], ascending=False)\n",
    "dept_avg\n",
    "dept_avg = dept_avg.dropna()"
   ]
  },
  {
   "cell_type": "code",
   "execution_count": null,
   "id": "suffering-provincial",
   "metadata": {
    "scrolled": true
   },
   "outputs": [],
   "source": [
    "plt.scatter(dept_avg['salary'], dept_avg['avg_rating'])\n",
    "plt.xlabel('salary')\n",
    "plt.ylabel('Average Rating')\n",
    "\n",
    "m,b = np.polyfit(dept_avg['salary'], dept_avg['avg_rating'], 1)\n",
    "print(m)\n",
    "print(b)\n",
    "\n",
    "plt.plot(dept_avg['salary'], m * dept_avg['salary'] + b)\n",
    "\n",
    "plt.show()\n"
   ]
  },
  {
   "cell_type": "code",
   "execution_count": null,
   "id": "b31c8543",
   "metadata": {},
   "outputs": [],
   "source": [
    "prof_salary = matched_salaries.dropna(subset = ['avg_rating'])\n",
    "\n",
    "prof_salary = prof_salary[prof_salary['position'].str.contains(\"Professor\") | prof_salary['position'].str.contains(\"Lecturer\")]\n",
    "\n",
    "plt.scatter(prof_salary['salary'], prof_salary['avg_rating'])\n",
    "plt.xlabel('salary')\n",
    "plt.ylabel('Average Rating')\n",
    "\n",
    "m,b = np.polyfit(prof_salary['salary'], prof_salary['avg_rating'], 1)\n",
    "print(m)\n",
    "print(b)\n",
    "\n",
    "plt.plot(prof_salary['salary'], m * prof_salary['salary'] + b, color = 'red')\n",
    "\n",
    "plt.show()"
   ]
  },
  {
   "cell_type": "code",
   "execution_count": null,
   "id": "stretch-distinction",
   "metadata": {},
   "outputs": [],
   "source": [
    "prof_salary = matched_salaries.dropna(subset = ['avg_rating'])\n",
    "\n",
    "\n",
    "# print(prof_salary)\n",
    "\n",
    "plt.scatter(prof_salary['num_courses'], prof_salary['salary'])\n",
    "plt.xlabel('num_courses')\n",
    "plt.ylabel('salary salary')\n",
    "\n",
    "m,b = np.polyfit(prof_salary['num_courses'], prof_salary['salary'], 1)\n",
    "# print(m)\n",
    "# print(b)\n",
    "\n",
    "plt.plot(prof_salary['num_courses'], m * prof_salary['num_courses'] + b, color = 'red')\n",
    "\n",
    "plt.show()"
   ]
  },
  {
   "cell_type": "code",
   "execution_count": null,
   "id": "controversial-alliance",
   "metadata": {},
   "outputs": [],
   "source": [
    "matched_salaries.corr()"
   ]
  },
  {
   "cell_type": "code",
   "execution_count": null,
   "id": "searching-survivor",
   "metadata": {},
   "outputs": [],
   "source": [
    "plt.subplots(figsize = (10,4))\n",
    "g = sns.heatmap(matched_salaries.corr(), annot = True, cmap = \"YlGnBu\", fmt = '.1g', linewidths=.5,)\n",
    "\n",
    "g.set_title(\"Correlation Matrix between Columns\")\n",
    "g.set_xticklabels(g.get_xticklabels(), rotation=45, horizontalalignment='right')\n",
    "g.set_yticklabels(g.get_yticklabels(), rotation=45, horizontalalignment='right')"
   ]
  },
  {
   "cell_type": "code",
   "execution_count": null,
   "id": "specialized-supplement",
   "metadata": {},
   "outputs": [],
   "source": [
    "dept_features = pd.get_dummies(matched_salaries['department'], drop_first = True, prefix = 'dept')\n",
    "# print(dept_features)\n",
    "\n",
    "std_features = matched_salaries[['avg_rating', 'salary', 'num_courses']]\n",
    "\n",
    "#combine our data\n",
    "comb_features = pd.concat([std_features, dept_features], axis = 1)\n",
    "# for i in filter(lambda i : i!= 'AGNR', matched_salaries['department'].unique()):\n",
    "#     comb_features['salary*' + i] = comb_features['dept_' + i]*comb_features['salary']\n"
   ]
  },
  {
   "cell_type": "code",
   "execution_count": null,
   "id": "tribal-maximum",
   "metadata": {},
   "outputs": [],
   "source": [
    "plt.subplots(figsize = (20,11))\n",
    "g = sns.heatmap(comb_features.corr(), annot = True, cmap = \"YlGnBu\", fmt = '.1g', linewidths=.5,)\n",
    "\n",
    "g.set_title(\"Correlation Matrix between Columns\")\n",
    "g.set_xticklabels(g.get_xticklabels(), rotation=45, horizontalalignment='right')\n",
    "g.set_yticklabels(g.get_yticklabels(), rotation=45, horizontalalignment='right')"
   ]
  },
  {
   "cell_type": "markdown",
   "id": "4baeef3a",
   "metadata": {},
   "source": [
    "going back\n"
   ]
  },
  {
   "cell_type": "code",
   "execution_count": null,
   "id": "de0363b4",
   "metadata": {},
   "outputs": [],
   "source": [
    "# def convert_to_num_rep(s):\n",
    "#     if(pd.isnull(s)):\n",
    "#         return 0\n",
    "#     nums = map(lambda c: str(ord(c)) , list(s))\n",
    "#     return int(\"\".join(list(nums)))\n",
    "\n",
    "def get_salary(x): \n",
    "    return matched_salaries.loc[x.prof_df_id][\"salary\"]\n",
    "def get_department(x):\n",
    "    return matched_salaries.loc[x.prof_df_id][\"department\"]\n",
    "    \n",
    "def map_grades(g): \n",
    "    if(pd.isnull(g)):\n",
    "        return np.nan\n",
    "    \n",
    "    d = {'A': 90, \"B\": 80, \"C\": 70, \"D\": 60, \"F\": 50}\n",
    "    match = re.search('[a-z|A-Z]', g, re.IGNORECASE)\n",
    "    if(match == None):\n",
    "        return np.nan\n",
    "    val = d.get(match.group(0))\n",
    "    return val if val != None else np.nan\n",
    "\n",
    "# reviews_df['course_num'] = reviews_df.apply(lambda x: convert_to_num_rep(x.course), axis=1)\n",
    "reviews_df['grade_num'] = reviews_df.apply(lambda x: map_grades(x.expected_grade), axis=1)\n",
    "reviews_df['department'] = reviews_df.apply(lambda x: get_department(x), axis=1)\n",
    "reviews_df['salary'] = reviews_df.apply(lambda x: get_salary(x), axis=1)\n",
    "reviews_df.head()"
   ]
  },
  {
   "cell_type": "markdown",
   "id": "1525dc5b",
   "metadata": {},
   "source": [
    "## Hypothesis Testing/Machine Learning"
   ]
  },
  {
   "cell_type": "code",
   "execution_count": null,
   "id": "43db01e6",
   "metadata": {},
   "outputs": [],
   "source": [
    "dept_features = pd.get_dummies(matched_salaries['department'], drop_first = True, prefix = 'dept')\n",
    "std_features = matched_salaries[['num_courses', 'avg_rating', 'salary']]\n",
    "\n",
    "comb_features = pd.concat([std_features, dept_features], axis = 1)\n",
    "\n",
    "comb_features = comb_features.dropna()\n",
    "for i in filter(lambda i : i!= 'AGNR', matched_salaries['department'].unique()):\n",
    "    comb_features['num_course*' + i] = comb_features['dept_' + i]*comb_features['num_courses']\n",
    "    comb_features['rating*' + i] = comb_features['dept_' + i]*comb_features['avg_rating']\n",
    "    \n",
    "comb_features"
   ]
  },
  {
   "cell_type": "code",
   "execution_count": null,
   "id": "transsexual-compact",
   "metadata": {},
   "outputs": [],
   "source": [
    "#seperate our data\n",
    "X = comb_features.drop('salary', axis = 1)\n",
    "y = comb_features['salary']\n",
    "reg = LinearRegression()\n",
    "reg.fit(X,y)\n",
    "print(\"Coefficient of each column: \" + str(reg.coef_))\n",
    "print(\"Y-intercept: \" + str(reg.intercept_))"
   ]
  },
  {
   "cell_type": "code",
   "execution_count": null,
   "id": "horizontal-character",
   "metadata": {},
   "outputs": [],
   "source": [
    "print(reg.predict([X.loc[4]]))"
   ]
  },
  {
   "cell_type": "code",
   "execution_count": null,
   "id": "legal-alloy",
   "metadata": {},
   "outputs": [],
   "source": [
    "predictions = []\n",
    "for i, row in matched_salaries.iterrows():\n",
    "    if i in comb_features.index:\n",
    "        predictions.append(round(reg.predict([X.loc[i]])[0],2))\n",
    "        \n",
    "    else :\n",
    "        predictions.append(np.nan)\n",
    "matched_salaries['predicted_salary'] = predictions\n",
    "matched_salaries.head(50)"
   ]
  },
  {
   "cell_type": "code",
   "execution_count": null,
   "id": "d1ac4294",
   "metadata": {},
   "outputs": [],
   "source": [
    "missing_grades = reviews_df[pd.isnull(reviews_df[\"grade_num\"])]\n",
    "missing_grades"
   ]
  },
  {
   "cell_type": "code",
   "execution_count": null,
   "id": "138aee3a",
   "metadata": {},
   "outputs": [],
   "source": [
    "non_missing_grades = reviews_df.dropna()\n",
    "non_missing_grades"
   ]
  },
  {
   "cell_type": "code",
   "execution_count": null,
   "id": "2200fe67",
   "metadata": {},
   "outputs": [],
   "source": [
    "partition = math.floor(len(non_missing_grades.index) / 3) * 2\n",
    "train_sample = non_missing_grades.iloc[0:partition, 0:]\n",
    "test_sample =non_missing_grades.iloc[partition:, 0:]"
   ]
  },
  {
   "cell_type": "code",
   "execution_count": null,
   "id": "486e95a2",
   "metadata": {},
   "outputs": [],
   "source": [
    "test_sample\n",
    "train_sample"
   ]
  },
  {
   "cell_type": "code",
   "execution_count": null,
   "id": "817fc9e5",
   "metadata": {},
   "outputs": [],
   "source": [
    "train_sample"
   ]
  },
  {
   "cell_type": "code",
   "execution_count": null,
   "id": "23e1384b",
   "metadata": {},
   "outputs": [],
   "source": []
  }
 ],
 "metadata": {
  "kernelspec": {
   "display_name": "Python 3",
   "language": "python",
   "name": "python3"
  },
  "language_info": {
   "codemirror_mode": {
    "name": "ipython",
    "version": 3
   },
   "file_extension": ".py",
   "mimetype": "text/x-python",
   "name": "python",
   "nbconvert_exporter": "python",
   "pygments_lexer": "ipython3",
   "version": "3.8.6"
  }
 },
 "nbformat": 4,
 "nbformat_minor": 5
}
