{
 "cells": [
  {
   "cell_type": "code",
   "execution_count": 6,
   "id": "bridal-classification",
   "metadata": {},
   "outputs": [
    {
     "name": "stderr",
     "output_type": "stream",
     "text": [
      "/opt/conda/lib/python3.8/site-packages/nbformat/current.py:15: UserWarning: nbformat.current is deprecated.\n",
      "\n",
      "- use nbformat for read/write/validate public API\n",
      "- use nbformat.vX directly to composing notebooks of a particular version\n",
      "\n",
      "  warnings.warn(\"\"\"nbformat.current is deprecated.\n"
     ]
    },
    {
     "name": "stdout",
     "output_type": "stream",
     "text": [
      "1729 Words in notebooks' markdown\n",
      "19 Words in notebooks' heading\n",
      "2154 Words in notebooks' code\n"
     ]
    }
   ],
   "source": [
    "import io\n",
    "import os\n",
    "from nbformat import current\n",
    "\n",
    "total_markdown = 0\n",
    "total_heading = 0\n",
    "total_code = 0\n",
    "\n",
    "for root, dirs, files in os.walk(\".\"):\n",
    "    for file in files:\n",
    "        if file.endswith(\".ipynb\") and not file.endswith(\"checkpoint.ipynb\") :\n",
    "            #print(os.path.join(root, file))\n",
    "            with io.open(os.path.join(root, file), 'r', encoding='utf-8') as f:\n",
    "                nb = current.read(f, 'json')\n",
    "\n",
    "            word_count_markdown = 0\n",
    "            word_count_heading = 0\n",
    "            word_count_code = 0\n",
    "            for cell in nb.worksheets[0].cells:\n",
    "                if cell.cell_type == \"markdown\":\n",
    "                    word_count_markdown += len(cell['source'].replace('#', '').lstrip().split(' '))\n",
    "                elif cell.cell_type == \"heading\":\n",
    "                    word_count_heading += len(cell['source'].replace('#', '').lstrip().split(' '))\n",
    "                elif cell.cell_type == \"code\":\n",
    "                    word_count_code += len(cell['input'].replace('#', '').lstrip().split(' '))\n",
    "            total_markdown += word_count_markdown\n",
    "            total_heading += word_count_heading\n",
    "            total_code += word_count_code\n",
    "\n",
    "print(\"{} Words in notebooks' markdown\" .format(total_markdown))\n",
    "print(\"{} Words in notebooks' heading\" .format(total_heading))\n",
    "print(\"{} Words in notebooks' code\" .format(total_code))"
   ]
  },
  {
   "cell_type": "code",
   "execution_count": null,
   "id": "allied-madonna",
   "metadata": {},
   "outputs": [],
   "source": []
  }
 ],
 "metadata": {
  "kernelspec": {
   "display_name": "Python 3",
   "language": "python",
   "name": "python3"
  },
  "language_info": {
   "codemirror_mode": {
    "name": "ipython",
    "version": 3
   },
   "file_extension": ".py",
   "mimetype": "text/x-python",
   "name": "python",
   "nbconvert_exporter": "python",
   "pygments_lexer": "ipython3",
   "version": "3.8.6"
  }
 },
 "nbformat": 4,
 "nbformat_minor": 5
}
